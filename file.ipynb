{
 "cells": [
  {
   "cell_type": "code",
   "execution_count": 24,
   "metadata": {},
   "outputs": [],
   "source": [
    "import os\n",
    "import csv\n",
    "import random"
   ]
  },
  {
   "cell_type": "code",
   "execution_count": 25,
   "metadata": {},
   "outputs": [],
   "source": [
    "# Function to select 20% of rows from a CSV and save to output file\n",
    "def select_and_save_subset(input_csv_path, output_csv_path):\n",
    "\n",
    "    with open(input_csv_path, 'r') as input_file, open(output_csv_path, 'w', newline='') as output_file:\n",
    "        csv_reader = csv.reader(input_file)\n",
    "        csv_writer = csv.writer(output_file)\n",
    "        \n",
    "        # Write the header row to the output CSV\n",
    "        header = next(csv_reader)\n",
    "        csv_writer.writerow(header)\n",
    "        \n",
    "        # Read all rows from the input CSV and randomly select 20% of them\n",
    "        all_rows = list(csv_reader)\n",
    "        num_rows = len(all_rows)\n",
    "        num_rows_to_select = int(num_rows * 0.2)\n",
    "        selected_rows = all_rows[:num_rows_to_select]\n",
    "        \n",
    "        # Write the selected rows to the output CSV\n",
    "        csv_writer.writerows(selected_rows)\n"
   ]
  },
  {
   "cell_type": "code",
   "execution_count": 26,
   "metadata": {},
   "outputs": [
    {
     "data": {
      "text/plain": [
       "'c:\\\\Users\\\\pluez\\\\Lavoro\\\\Git\\\\Topics_trends_EC_case_study\\\\data'"
      ]
     },
     "execution_count": 26,
     "metadata": {},
     "output_type": "execute_result"
    }
   ],
   "source": [
    "os.getcwd()"
   ]
  },
  {
   "cell_type": "code",
   "execution_count": 27,
   "metadata": {},
   "outputs": [],
   "source": [
    "input_path = f\"../../Echo-chamber-stability/data/\"\n",
    "output_path = f\"../../Topics_trends_EC_case_study/data/\""
   ]
  },
  {
   "cell_type": "code",
   "execution_count": 28,
   "metadata": {},
   "outputs": [
    {
     "name": "stdout",
     "output_type": "stream",
     "text": [
      ".ipynb_checkpoints\n",
      "minority_01-01-2017_01-07-2017_complete.csv\n",
      "../../Echo-chamber-stability/data/minority\\minority_01-01-2017_01-07-2017_complete.csv\n",
      "../../Echo-chamber-stability/data/minority\\minority_01-01-2017_01-07-2017_complete.csv ../../Topics_trends_EC_case_study/data/minority/minority_01-01-2017_01-07-2017_complete.csv\n",
      "minority_01-01-2018_01-07-2018_complete.csv\n",
      "../../Echo-chamber-stability/data/minority\\minority_01-01-2018_01-07-2018_complete.csv\n",
      "../../Echo-chamber-stability/data/minority\\minority_01-01-2018_01-07-2018_complete.csv ../../Topics_trends_EC_case_study/data/minority/minority_01-01-2018_01-07-2018_complete.csv\n",
      "minority_01-01-2019_01-07-2019_complete.csv\n",
      "../../Echo-chamber-stability/data/minority\\minority_01-01-2019_01-07-2019_complete.csv\n",
      "../../Echo-chamber-stability/data/minority\\minority_01-01-2019_01-07-2019_complete.csv ../../Topics_trends_EC_case_study/data/minority/minority_01-01-2019_01-07-2019_complete.csv\n",
      "minority_01-07-2017_01-01-2018_complete.csv\n",
      "../../Echo-chamber-stability/data/minority\\minority_01-07-2017_01-01-2018_complete.csv\n",
      "../../Echo-chamber-stability/data/minority\\minority_01-07-2017_01-01-2018_complete.csv ../../Topics_trends_EC_case_study/data/minority/minority_01-07-2017_01-01-2018_complete.csv\n",
      "minority_01-07-2018_01-01-2019_complete.csv\n",
      "../../Echo-chamber-stability/data/minority\\minority_01-07-2018_01-01-2019_complete.csv\n",
      "../../Echo-chamber-stability/data/minority\\minority_01-07-2018_01-01-2019_complete.csv ../../Topics_trends_EC_case_study/data/minority/minority_01-07-2018_01-01-2019_complete.csv\n",
      "minority_2017-01-01_2017-07-01_labels.csv\n",
      "../../Echo-chamber-stability/data/minority\\minority_2017-01-01_2017-07-01_labels.csv\n",
      "../../Echo-chamber-stability/data/minority\\minority_2017-01-01_2017-07-01_labels.csv ../../Topics_trends_EC_case_study/data/minority/minority_2017-01-01_2017-07-01_labels.csv\n",
      "minority_2017-07-01_2018-01-01_labels.csv\n",
      "../../Echo-chamber-stability/data/minority\\minority_2017-07-01_2018-01-01_labels.csv\n",
      "../../Echo-chamber-stability/data/minority\\minority_2017-07-01_2018-01-01_labels.csv ../../Topics_trends_EC_case_study/data/minority/minority_2017-07-01_2018-01-01_labels.csv\n",
      "minority_2018-01-01_2018-07-01_labels.csv\n",
      "../../Echo-chamber-stability/data/minority\\minority_2018-01-01_2018-07-01_labels.csv\n",
      "../../Echo-chamber-stability/data/minority\\minority_2018-01-01_2018-07-01_labels.csv ../../Topics_trends_EC_case_study/data/minority/minority_2018-01-01_2018-07-01_labels.csv\n",
      "minority_2018-07-01_2019-01-01_labels.csv\n",
      "../../Echo-chamber-stability/data/minority\\minority_2018-07-01_2019-01-01_labels.csv\n",
      "../../Echo-chamber-stability/data/minority\\minority_2018-07-01_2019-01-01_labels.csv ../../Topics_trends_EC_case_study/data/minority/minority_2018-07-01_2019-01-01_labels.csv\n",
      "minority_2019-01-01_2019-07-01_labels.csv\n",
      "../../Echo-chamber-stability/data/minority\\minority_2019-01-01_2019-07-01_labels.csv\n",
      "../../Echo-chamber-stability/data/minority\\minority_2019-01-01_2019-07-01_labels.csv ../../Topics_trends_EC_case_study/data/minority/minority_2019-01-01_2019-07-01_labels.csv\n",
      "minority_edgelist_complete.csv\n",
      "../../Echo-chamber-stability/data/minority\\minority_edgelist_complete.csv\n",
      "../../Echo-chamber-stability/data/minority\\minority_edgelist_complete.csv ../../Topics_trends_EC_case_study/data/minority/minority_edgelist_complete.csv\n",
      "minority_labels_complete.csv\n",
      "../../Echo-chamber-stability/data/minority\\minority_labels_complete.csv\n",
      "../../Echo-chamber-stability/data/minority\\minority_labels_complete.csv ../../Topics_trends_EC_case_study/data/minority/minority_labels_complete.csv\n",
      ".ipynb_checkpoints\n",
      "politics_01-01-2017_01-07-2017_complete.csv\n",
      "../../Echo-chamber-stability/data/politics\\politics_01-01-2017_01-07-2017_complete.csv\n",
      "../../Echo-chamber-stability/data/politics\\politics_01-01-2017_01-07-2017_complete.csv ../../Topics_trends_EC_case_study/data/politics/politics_01-01-2017_01-07-2017_complete.csv\n",
      "politics_01-01-2018_01-07-2018_complete.csv\n",
      "../../Echo-chamber-stability/data/politics\\politics_01-01-2018_01-07-2018_complete.csv\n",
      "../../Echo-chamber-stability/data/politics\\politics_01-01-2018_01-07-2018_complete.csv ../../Topics_trends_EC_case_study/data/politics/politics_01-01-2018_01-07-2018_complete.csv\n",
      "politics_01-01-2019_01-07-2019_complete.csv\n",
      "../../Echo-chamber-stability/data/politics\\politics_01-01-2019_01-07-2019_complete.csv\n",
      "../../Echo-chamber-stability/data/politics\\politics_01-01-2019_01-07-2019_complete.csv ../../Topics_trends_EC_case_study/data/politics/politics_01-01-2019_01-07-2019_complete.csv\n",
      "politics_01-07-2017_01-01-2018_complete.csv\n",
      "../../Echo-chamber-stability/data/politics\\politics_01-07-2017_01-01-2018_complete.csv\n",
      "../../Echo-chamber-stability/data/politics\\politics_01-07-2017_01-01-2018_complete.csv ../../Topics_trends_EC_case_study/data/politics/politics_01-07-2017_01-01-2018_complete.csv\n",
      "politics_01-07-2018_01-01-2019_complete.csv\n",
      "../../Echo-chamber-stability/data/politics\\politics_01-07-2018_01-01-2019_complete.csv\n",
      "../../Echo-chamber-stability/data/politics\\politics_01-07-2018_01-01-2019_complete.csv ../../Topics_trends_EC_case_study/data/politics/politics_01-07-2018_01-01-2019_complete.csv\n",
      "politics_2017-01-01_2017-07-01_labels.csv\n",
      "../../Echo-chamber-stability/data/politics\\politics_2017-01-01_2017-07-01_labels.csv\n",
      "../../Echo-chamber-stability/data/politics\\politics_2017-01-01_2017-07-01_labels.csv ../../Topics_trends_EC_case_study/data/politics/politics_2017-01-01_2017-07-01_labels.csv\n",
      "politics_2017-07-01_2018-01-01_labels.csv\n",
      "../../Echo-chamber-stability/data/politics\\politics_2017-07-01_2018-01-01_labels.csv\n",
      "../../Echo-chamber-stability/data/politics\\politics_2017-07-01_2018-01-01_labels.csv ../../Topics_trends_EC_case_study/data/politics/politics_2017-07-01_2018-01-01_labels.csv\n",
      "politics_2018-01-01_2018-07-01_labels.csv\n",
      "../../Echo-chamber-stability/data/politics\\politics_2018-01-01_2018-07-01_labels.csv\n",
      "../../Echo-chamber-stability/data/politics\\politics_2018-01-01_2018-07-01_labels.csv ../../Topics_trends_EC_case_study/data/politics/politics_2018-01-01_2018-07-01_labels.csv\n",
      "politics_2018-07-01_2019-01-01_labels.csv\n",
      "../../Echo-chamber-stability/data/politics\\politics_2018-07-01_2019-01-01_labels.csv\n",
      "../../Echo-chamber-stability/data/politics\\politics_2018-07-01_2019-01-01_labels.csv ../../Topics_trends_EC_case_study/data/politics/politics_2018-07-01_2019-01-01_labels.csv\n",
      "politics_2019-01-01_2019-07-01_labels.csv\n",
      "../../Echo-chamber-stability/data/politics\\politics_2019-01-01_2019-07-01_labels.csv\n",
      "../../Echo-chamber-stability/data/politics\\politics_2019-01-01_2019-07-01_labels.csv ../../Topics_trends_EC_case_study/data/politics/politics_2019-01-01_2019-07-01_labels.csv\n",
      "politics_edgelist_complete.csv\n",
      "../../Echo-chamber-stability/data/politics\\politics_edgelist_complete.csv\n",
      "../../Echo-chamber-stability/data/politics\\politics_edgelist_complete.csv ../../Topics_trends_EC_case_study/data/politics/politics_edgelist_complete.csv\n",
      "politics_labels_complete.csv\n",
      "../../Echo-chamber-stability/data/politics\\politics_labels_complete.csv\n",
      "../../Echo-chamber-stability/data/politics\\politics_labels_complete.csv ../../Topics_trends_EC_case_study/data/politics/politics_labels_complete.csv\n",
      ".ipynb_checkpoints\n",
      "guncontrol_01-01-2017_01-07-2017_complete.csv\n",
      "../../Echo-chamber-stability/data/guncontrol\\guncontrol_01-01-2017_01-07-2017_complete.csv\n",
      "../../Echo-chamber-stability/data/guncontrol\\guncontrol_01-01-2017_01-07-2017_complete.csv ../../Topics_trends_EC_case_study/data/guncontrol/guncontrol_01-01-2017_01-07-2017_complete.csv\n",
      "guncontrol_01-01-2018_01-07-2018_complete.csv\n",
      "../../Echo-chamber-stability/data/guncontrol\\guncontrol_01-01-2018_01-07-2018_complete.csv\n",
      "../../Echo-chamber-stability/data/guncontrol\\guncontrol_01-01-2018_01-07-2018_complete.csv ../../Topics_trends_EC_case_study/data/guncontrol/guncontrol_01-01-2018_01-07-2018_complete.csv\n",
      "guncontrol_01-01-2019_01-07-2019_complete.csv\n",
      "../../Echo-chamber-stability/data/guncontrol\\guncontrol_01-01-2019_01-07-2019_complete.csv\n",
      "../../Echo-chamber-stability/data/guncontrol\\guncontrol_01-01-2019_01-07-2019_complete.csv ../../Topics_trends_EC_case_study/data/guncontrol/guncontrol_01-01-2019_01-07-2019_complete.csv\n",
      "guncontrol_01-07-2017_01-01-2018_complete.csv\n",
      "../../Echo-chamber-stability/data/guncontrol\\guncontrol_01-07-2017_01-01-2018_complete.csv\n",
      "../../Echo-chamber-stability/data/guncontrol\\guncontrol_01-07-2017_01-01-2018_complete.csv ../../Topics_trends_EC_case_study/data/guncontrol/guncontrol_01-07-2017_01-01-2018_complete.csv\n",
      "guncontrol_01-07-2018_01-01-2019_complete.csv\n",
      "../../Echo-chamber-stability/data/guncontrol\\guncontrol_01-07-2018_01-01-2019_complete.csv\n",
      "../../Echo-chamber-stability/data/guncontrol\\guncontrol_01-07-2018_01-01-2019_complete.csv ../../Topics_trends_EC_case_study/data/guncontrol/guncontrol_01-07-2018_01-01-2019_complete.csv\n",
      "guncontrol_2017-01-01_2017-07-01_labels.csv\n",
      "../../Echo-chamber-stability/data/guncontrol\\guncontrol_2017-01-01_2017-07-01_labels.csv\n",
      "../../Echo-chamber-stability/data/guncontrol\\guncontrol_2017-01-01_2017-07-01_labels.csv ../../Topics_trends_EC_case_study/data/guncontrol/guncontrol_2017-01-01_2017-07-01_labels.csv\n",
      "guncontrol_2017-07-01_2018-01-01_labels.csv\n",
      "../../Echo-chamber-stability/data/guncontrol\\guncontrol_2017-07-01_2018-01-01_labels.csv\n",
      "../../Echo-chamber-stability/data/guncontrol\\guncontrol_2017-07-01_2018-01-01_labels.csv ../../Topics_trends_EC_case_study/data/guncontrol/guncontrol_2017-07-01_2018-01-01_labels.csv\n",
      "guncontrol_2018-01-01_2018-07-01_labels.csv\n",
      "../../Echo-chamber-stability/data/guncontrol\\guncontrol_2018-01-01_2018-07-01_labels.csv\n",
      "../../Echo-chamber-stability/data/guncontrol\\guncontrol_2018-01-01_2018-07-01_labels.csv ../../Topics_trends_EC_case_study/data/guncontrol/guncontrol_2018-01-01_2018-07-01_labels.csv\n",
      "guncontrol_2018-07-01_2019-01-01_labels.csv\n",
      "../../Echo-chamber-stability/data/guncontrol\\guncontrol_2018-07-01_2019-01-01_labels.csv\n",
      "../../Echo-chamber-stability/data/guncontrol\\guncontrol_2018-07-01_2019-01-01_labels.csv ../../Topics_trends_EC_case_study/data/guncontrol/guncontrol_2018-07-01_2019-01-01_labels.csv\n",
      "guncontrol_2019-01-01_2019-07-01_labels.csv\n",
      "../../Echo-chamber-stability/data/guncontrol\\guncontrol_2019-01-01_2019-07-01_labels.csv\n",
      "../../Echo-chamber-stability/data/guncontrol\\guncontrol_2019-01-01_2019-07-01_labels.csv ../../Topics_trends_EC_case_study/data/guncontrol/guncontrol_2019-01-01_2019-07-01_labels.csv\n",
      "guncontrol_edgelist_complete.csv\n",
      "../../Echo-chamber-stability/data/guncontrol\\guncontrol_edgelist_complete.csv\n",
      "../../Echo-chamber-stability/data/guncontrol\\guncontrol_edgelist_complete.csv ../../Topics_trends_EC_case_study/data/guncontrol/guncontrol_edgelist_complete.csv\n",
      "guncontrol_labels_complete.csv\n",
      "../../Echo-chamber-stability/data/guncontrol\\guncontrol_labels_complete.csv\n",
      "../../Echo-chamber-stability/data/guncontrol\\guncontrol_labels_complete.csv ../../Topics_trends_EC_case_study/data/guncontrol/guncontrol_labels_complete.csv\n"
     ]
    }
   ],
   "source": [
    "\n",
    "topics = [\"minority\", \"politics\", \"guncontrol\"]\n",
    "\n",
    "for topic in topics: \n",
    "    # print(topic)\n",
    "    # Dynamically choose a folder\n",
    "    folder_path = os.path.join(input_path, f\"{topic}\")\n",
    "    # Iterate through CSV files in the chosen folder\n",
    "    for filename in os.listdir(folder_path):\n",
    "        print(filename)\n",
    "        if filename.endswith(\".csv\"):\n",
    "            input_csv_path = os.path.join(folder_path, filename)\n",
    "            output_csv_path = os.path.join(output_path, f\"{topic}/{filename}\")\n",
    "            print( input_csv_path)\n",
    "            select_and_save_subset(input_csv_path, output_csv_path)\n",
    "            print(input_csv_path, output_csv_path)\n"
   ]
  },
  {
   "cell_type": "code",
   "execution_count": null,
   "metadata": {},
   "outputs": [],
   "source": []
  }
 ],
 "metadata": {
  "kernelspec": {
   "display_name": "Python 3",
   "language": "python",
   "name": "python3"
  },
  "language_info": {
   "codemirror_mode": {
    "name": "ipython",
    "version": 3
   },
   "file_extension": ".py",
   "mimetype": "text/x-python",
   "name": "python",
   "nbconvert_exporter": "python",
   "pygments_lexer": "ipython3",
   "version": "3.9.13"
  },
  "orig_nbformat": 4
 },
 "nbformat": 4,
 "nbformat_minor": 2
}
